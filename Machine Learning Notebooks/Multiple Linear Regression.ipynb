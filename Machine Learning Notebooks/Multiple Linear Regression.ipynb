{
 "cells": [
  {
   "cell_type": "markdown",
   "id": "bb227e8d-26da-496e-a4f3-cb9fab942781",
   "metadata": {},
   "source": [
    "# Multiple Linear Regression "
   ]
  },
  {
   "cell_type": "markdown",
   "id": "fdd4d5cd-a45f-4f17-89b9-87d46a51e150",
   "metadata": {
    "tags": []
   },
   "source": [
    "## importing the necessary libraries"
   ]
  },
  {
   "cell_type": "code",
   "execution_count": 1,
   "id": "19a67e79-92e4-4714-b490-038917651c4f",
   "metadata": {},
   "outputs": [],
   "source": [
    "import numpy as np\n",
    "import pandas as pd\n",
    "import matplotlib.pyplot as plt\n",
    "import seaborn as sns"
   ]
  },
  {
   "cell_type": "markdown",
   "id": "51c1b0f5-8db2-4c47-89e9-6de1d919e4bd",
   "metadata": {
    "tags": []
   },
   "source": [
    "## Loading the data"
   ]
  },
  {
   "cell_type": "code",
   "execution_count": 2,
   "id": "043bdb8a-0aaf-4f9b-803c-4df78b5b2081",
   "metadata": {},
   "outputs": [],
   "source": [
    "data = pd.read_csv(r\"C:\\Users\\91771\\Downloads\\archive\\Iris.csv\")"
   ]
  },
  {
   "cell_type": "markdown",
   "id": "3c5f151c-4181-4741-8875-a96ded1e4bc6",
   "metadata": {},
   "source": [
    "### Feature and Target selection"
   ]
  },
  {
   "cell_type": "code",
   "execution_count": 3,
   "id": "58a921f7-74b8-4388-98a8-0b3276e90d7a",
   "metadata": {},
   "outputs": [],
   "source": [
    "X = data[['SepalLengthCm','SepalWidthCm','PetalLengthCm','PetalWidthCm']].values\n",
    "y = data['Species'].values"
   ]
  },
  {
   "cell_type": "markdown",
   "id": "23aaf330-a1a1-4213-b2e3-6d540042000a",
   "metadata": {
    "jp-MarkdownHeadingCollapsed": true,
    "tags": []
   },
   "source": [
    "### Label Encoding"
   ]
  },
  {
   "cell_type": "code",
   "execution_count": 4,
   "id": "ed768007-7578-4ea2-bcbc-b8d520318315",
   "metadata": {},
   "outputs": [],
   "source": [
    "# Custom label encoding function\n",
    "def label_encode(target):\n",
    "    classes = list(set(target))\n",
    "    encoding = {cls: idx for idx, cls in enumerate(classes)}\n",
    "    return np.array([encoding[cls] for cls in target])\n",
    "\n",
    "y =  label_encode(y)"
   ]
  },
  {
   "cell_type": "markdown",
   "id": "f96772ab-e34e-49cd-8b55-e80c92eb9330",
   "metadata": {
    "jp-MarkdownHeadingCollapsed": true,
    "tags": []
   },
   "source": [
    "### Bias Selection"
   ]
  },
  {
   "cell_type": "code",
   "execution_count": 5,
   "id": "55a08eb9-c3b3-4e3c-8f4b-ba90d96c3a24",
   "metadata": {},
   "outputs": [],
   "source": [
    "X_bias =  np.c_[np.ones(X.shape[0]),X] "
   ]
  },
  {
   "cell_type": "markdown",
   "id": "7b05c657-7b9e-4fa2-841c-3bfe4b18a26b",
   "metadata": {
    "jp-MarkdownHeadingCollapsed": true,
    "tags": []
   },
   "source": [
    "## Training and Testing the data"
   ]
  },
  {
   "cell_type": "code",
   "execution_count": 6,
   "id": "7bf4d18e-9346-4bd4-b976-83ff8ab4aa96",
   "metadata": {},
   "outputs": [],
   "source": [
    "#Manually Splitting the dataset into training and testing set\n",
    "#setting random seed for reproducibility\n",
    "np.random.seed(0)\n",
    "indices =  np.random.permutation(len(X_bias))\n",
    "split_ratio = 0.8 #means 80% traing, 20% testing\n",
    "split_index = int(len(X_bias)*split_ratio)\n",
    "X_train, X_test =  X_bias[:split_index], X_bias[split_index:]\n",
    "y_train,  y_test  = y[:split_index], y[split_index:]"
   ]
  },
  {
   "cell_type": "markdown",
   "id": "95bba692-50b7-41b7-bcb5-71b18ad6546c",
   "metadata": {},
   "source": [
    "## Multiple Linear Regression Model"
   ]
  },
  {
   "cell_type": "code",
   "execution_count": 7,
   "id": "7053b42f-a019-4c34-900f-116deff69181",
   "metadata": {},
   "outputs": [],
   "source": [
    "class MultipleLinearRegression:\n",
    "    def __init__(self, learning_rate=0.01, n_iterations=1000):\n",
    "        self.learning_rate = learning_rate;\n",
    "        self.n_iterations = n_iterations;\n",
    "    \n",
    "    def fit(self, X, y):\n",
    "        self.theta = np.zeros(X.shape[1])\n",
    "        self.m = len(y)\n",
    "        \n",
    "        for i in range(self.n_iterations):\n",
    "            gradients = 2/self.m * X.T.dot(X.dot(self.theta)-y)\n",
    "            self.theta -= self.learning_rate * gradients\n",
    "            \n",
    "    def predict(self, X):\n",
    "        return X.dot(self.theta)"
   ]
  },
  {
   "cell_type": "markdown",
   "id": "93416fcf-b15a-417a-9d14-828ba22270fd",
   "metadata": {},
   "source": [
    "### assigining and training the model"
   ]
  },
  {
   "cell_type": "code",
   "execution_count": 8,
   "id": "2f9d0504-69f9-46b6-b354-5e2a04ce9fc3",
   "metadata": {},
   "outputs": [],
   "source": [
    "model = MultipleLinearRegression()\n",
    "model.fit(X_train, y_train)"
   ]
  },
  {
   "cell_type": "markdown",
   "id": "9d4ed738-25f2-4515-89ab-11d1b45d30e7",
   "metadata": {},
   "source": [
    "### Prediction on the test data"
   ]
  },
  {
   "cell_type": "code",
   "execution_count": 9,
   "id": "a626b258-aba7-423a-bcb9-fcd44b08434f",
   "metadata": {},
   "outputs": [],
   "source": [
    "y_pred = model.predict(X_test)"
   ]
  },
  {
   "cell_type": "markdown",
   "id": "82c1b162-cf07-4390-a213-a002e77dfd2f",
   "metadata": {},
   "source": [
    "## Evaluation of the Model"
   ]
  },
  {
   "cell_type": "code",
   "execution_count": 10,
   "id": "42852b6e-e330-431c-a11e-2eea41977fe6",
   "metadata": {},
   "outputs": [
    {
     "name": "stdout",
     "output_type": "stream",
     "text": [
      "Mean Squared Error: 1.2174707207141424\n"
     ]
    }
   ],
   "source": [
    "mse = np.mean((y_test - y_pred)**2)\n",
    "print(f\"Mean Squared Error: {mse}\")"
   ]
  },
  {
   "cell_type": "markdown",
   "id": "39d490d5-2682-461b-9f4d-7eeafe6b8c8b",
   "metadata": {},
   "source": [
    "### Confusion Matrix"
   ]
  },
  {
   "cell_type": "code",
   "execution_count": 11,
   "id": "a30c3c79-cecb-4eb8-a64b-948807cf17d4",
   "metadata": {},
   "outputs": [],
   "source": [
    "def confusion_matrix(y_true, y_pred, num_classes):\n",
    "    matrix = np.zeros((num_classes, num_classes))\n",
    "    for i in range(len(y_true)):\n",
    "        true_label = int(y_true[i])\n",
    "        predict_label = int(y_pred[i])\n",
    "        matrix[true_label][predict_label] += 1\n",
    "    return matrix"
   ]
  },
  {
   "cell_type": "code",
   "execution_count": 12,
   "id": "89a0dbe7-2308-4289-8c2e-c6d5a21909ac",
   "metadata": {},
   "outputs": [],
   "source": [
    "#setting num_classes value which 3 here for Iris dataset\n",
    "num_classes = 3"
   ]
  },
  {
   "cell_type": "code",
   "execution_count": 13,
   "id": "e5227f24-c09c-41b3-b611-7667466ad674",
   "metadata": {},
   "outputs": [],
   "source": [
    "##calling the confusion matrix by assigning to a variable\n",
    "confusion_mat = confusion_matrix(y_test,y_pred,num_classes)"
   ]
  },
  {
   "cell_type": "markdown",
   "id": "ad791dc8-a444-4f26-8583-fa3723f88a0a",
   "metadata": {},
   "source": [
    "## Visualizing the model output"
   ]
  },
  {
   "cell_type": "code",
   "execution_count": 14,
   "id": "52f23e0c-84d5-462f-8e01-c021d9f78949",
   "metadata": {},
   "outputs": [
    {
     "data": {
      "image/png": "[encoded data removed]",
      "text/plain": [
       "<Figure size 640x480 with 2 Axes>"
      ]
     },
     "metadata": {},
     "output_type": "display_data"
    }
   ],
   "source": [
    "plt.imshow(confusion_mat, interpolation='nearest', cmap=plt.get_cmap('Blues'))\n",
    "plt.title('Confusion Matrix')\n",
    "plt.colorbar()\n",
    "tick_marks = np.arange(num_classes)\n",
    "plt.xticks(tick_marks, ['Class 0', 'Class 1', 'Class 2'])\n",
    "plt.yticks(tick_marks, ['Class 0', 'Class 1', 'Class 2'])\n",
    "plt.ylabel('True Label')\n",
    "plt.xlabel('Predicted Label')\n",
    "plt.show()"
   ]
  },
  {
   "cell_type": "code",
   "execution_count": null,
   "id": "2247aaf7-31d3-462c-bfdd-7384b9db21eb",
   "metadata": {},
   "outputs": [],
   "source": []
  }
 ],
 "metadata": {
  "kernelspec": {
   "display_name": "Python 3 (ipykernel)",
   "language": "python",
   "name": "python3"
  },
  "language_info": {
   "codemirror_mode": {
    "name": "ipython",
    "version": 3
   },
   "file_extension": ".py",
   "mimetype": "text/x-python",
   "name": "python",
   "nbconvert_exporter": "python",
   "pygments_lexer": "ipython3",
   "version": "3.8.2"
  }
 },
 "nbformat": 4,
 "nbformat_minor": 5
}
