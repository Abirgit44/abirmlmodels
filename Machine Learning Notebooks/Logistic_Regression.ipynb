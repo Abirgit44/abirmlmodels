{
 "cells": [
  {
   "cell_type": "markdown",
   "id": "70ece941-c99f-441d-9cf7-e75cd42d1b53",
   "metadata": {},
   "source": [
    "# Logistic Regression"
   ]
  },
  {
   "cell_type": "markdown",
   "id": "dc062e83-4ed1-4aff-8444-dad1524fb7b9",
   "metadata": {},
   "source": [
    "## importing necessary libraries"
   ]
  },
  {
   "cell_type": "code",
   "execution_count": 1,
   "id": "1cfd2f71-45ca-4278-ba90-4b8ac444e118",
   "metadata": {},
   "outputs": [],
   "source": [
    "import pandas as pd\n",
    "import numpy as np\n",
    "import plotly.express as px"
   ]
  },
  {
   "cell_type": "markdown",
   "id": "5d4df54f-fd91-4dcb-833e-7344feabf6cc",
   "metadata": {},
   "source": [
    "## Loading the data and encoding the data"
   ]
  },
  {
   "cell_type": "code",
   "execution_count": 8,
   "id": "ad623b8f-9e69-4590-88e7-7fdd1519cd28",
   "metadata": {},
   "outputs": [],
   "source": [
    "data = pd.read_csv(r\"C:\\Users\\91771\\Downloads\\archive\\Iris.csv\")"
   ]
  },
  {
   "cell_type": "code",
   "execution_count": 10,
   "id": "c4a1c14f-93cb-44fd-8aeb-ec9f1eb70c19",
   "metadata": {},
   "outputs": [],
   "source": [
    "#here we do the feature selection part and setting target variable part\n",
    "X = data[['SepalLengthCm','SepalWidthCm','PetalLengthCm','PetalWidthCm']].values\n",
    "y = data['Species'].values"
   ]
  },
  {
   "cell_type": "code",
   "execution_count": 11,
   "id": "2d50a776-a466-4aa4-aaf7-115f4cc20e7d",
   "metadata": {},
   "outputs": [],
   "source": [
    "## label encoding the data\n",
    "def label_encode(target):\n",
    "    classes =  list(set(target))\n",
    "    encoding = {cls: idx for idx,cls in enumerate(classes)}\n",
    "    return np.array([encoding[cls] for cls in target])\n",
    "\n",
    "y = label_encode(y)"
   ]
  },
  {
   "cell_type": "markdown",
   "id": "62d2b931-a486-4417-a2c0-28c5da1ace59",
   "metadata": {},
   "source": [
    "## Splitting the training and testing set"
   ]
  },
  {
   "cell_type": "code",
   "execution_count": 13,
   "id": "c97965fc-600c-46bb-a661-ba5848fcc88b",
   "metadata": {},
   "outputs": [],
   "source": [
    "np.random.seed(0)\n",
    "split_ratio = 0.8"
   ]
  },
  {
   "cell_type": "code",
   "execution_count": 14,
   "id": "7d72710c-3f7a-4784-92c7-a75021312eb5",
   "metadata": {},
   "outputs": [],
   "source": [
    "split_index = int(len(X)*split_ratio)"
   ]
  },
  {
   "cell_type": "code",
   "execution_count": 15,
   "id": "31bfd974-c88a-45f3-ab97-25d17c3a0bd3",
   "metadata": {},
   "outputs": [],
   "source": [
    "X_train, X_test = X[:split_index], X[split_index:]\n",
    "y_train, y_test = y[:split_index], y[split_index:]"
   ]
  },
  {
   "cell_type": "markdown",
   "id": "33b07cb9-29fd-45e8-ad18-8579129d3ffe",
   "metadata": {},
   "source": [
    "## Defining the sigmoid function"
   ]
  },
  {
   "cell_type": "code",
   "execution_count": 16,
   "id": "7c4072d8-278a-48aa-9b40-4bdc1e7a234e",
   "metadata": {},
   "outputs": [],
   "source": [
    "##defining the sigmoid function which will be used inside the Logistic Regression Model\n",
    "def sigmoid(z):\n",
    "    return 1/(1+np.exp(-z))"
   ]
  },
  {
   "cell_type": "code",
   "execution_count": 18,
   "id": "a19cd547-f8c2-448d-9fd2-82ed04799af9",
   "metadata": {},
   "outputs": [],
   "source": [
    "## Logistic Regression Model\n",
    "class LogisticRegression:\n",
    "    def __init__(self, learning_rate = 0.01, n_iterations = 1000):\n",
    "        self.learning_rate = learning_rate\n",
    "        self.n_iterations = n_iterations\n",
    "        \n",
    "    def fit(self, X, y):\n",
    "        self.theta = np.zeros(X.shape[1])\n",
    "        \n",
    "        for _ in range(self.n_iterations):\n",
    "            z = X.dot(self.theta)\n",
    "            predictions = sigmoid(z)\n",
    "            gradient = X.T.dot(predictions - y)\n",
    "            self.theta -= self.learning_rate * gradient\n",
    "            \n",
    "    def predict(self,X):\n",
    "        z = X.dot(self.theta)\n",
    "        predicted_probabilities = sigmoid(z)\n",
    "        return(predicted_probabilities >= 0.5).astype(int)"
   ]
  },
  {
   "cell_type": "markdown",
   "id": "1f587662-1797-457d-b5ad-ba26c1889644",
   "metadata": {},
   "source": [
    "## Evaluating the model"
   ]
  },
  {
   "cell_type": "code",
   "execution_count": null,
   "id": "3701f886-6dc0-455d-89dc-84b3b6372c53",
   "metadata": {},
   "outputs": [],
   "source": [
    "def accuracy(y_true, y_pred):\n",
    "    return np.mean(y_true==y_pred)\n",
    "\n",
    "def precision(y_true, y_pred):\n",
    "    #precision is the ratio of total correctly predicted positives over total predicted positives\n",
    "    TP = np.sum((y_true==1)&(y_pred==1))  #TP-> True Positives\n",
    "    FP = np.sum((y_true==0)&(y_pred==1)) #FP-> False Positives\n",
    "    return TP/(TP+FP)    \n",
    "\n"
   ]
  }
 ],
 "metadata": {
  "kernelspec": {
   "display_name": "Python 3 (ipykernel)",
   "language": "python",
   "name": "python3"
  },
  "language_info": {
   "codemirror_mode": {
    "name": "ipython",
    "version": 3
   },
   "file_extension": ".py",
   "mimetype": "text/x-python",
   "name": "python",
   "nbconvert_exporter": "python",
   "pygments_lexer": "ipython3",
   "version": "3.8.2"
  }
 },
 "nbformat": 4,
 "nbformat_minor": 5
}
